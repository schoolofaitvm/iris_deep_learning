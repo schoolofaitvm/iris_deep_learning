{
  "nbformat": 4,
  "nbformat_minor": 0,
  "metadata": {
    "colab": {
      "name": "Iris_Deep_Learning_Solution.ipynb",
      "provenance": [],
      "collapsed_sections": []
    },
    "kernelspec": {
      "name": "python3",
      "display_name": "Python 3"
    }
  },
  "cells": [
    {
      "cell_type": "code",
      "metadata": {
        "id": "IY_lHI7QOECs",
        "colab_type": "code",
        "colab": {}
      },
      "source": [
        "# Import the necessary Libraries\n",
        "import torch\n",
        "import pandas as pd\n",
        "from torchvision import transforms, utils\n",
        "from torch.autograd import Variable\n",
        "import torch.utils.data as data_utils\n",
        "import numpy as np\n",
        "import matplotlib.pyplot as graph\n",
        "from sklearn import preprocessing\n",
        "from sklearn.model_selection import train_test_split"
      ],
      "execution_count": 0,
      "outputs": []
    },
    {
      "cell_type": "code",
      "metadata": {
        "id": "fgUtmB7eOcHW",
        "colab_type": "code",
        "colab": {
          "base_uri": "https://localhost:8080/",
          "height": 197
        },
        "outputId": "e268e4cd-e0fa-4bc5-ddc8-8af8c8a50689"
      },
      "source": [
        "# Load the dataset\n",
        "iris_df = pd.read_csv(\"iris.csv\")\n",
        "iris_df.head()"
      ],
      "execution_count": 2,
      "outputs": [
        {
          "output_type": "execute_result",
          "data": {
            "text/html": [
              "<div>\n",
              "<style scoped>\n",
              "    .dataframe tbody tr th:only-of-type {\n",
              "        vertical-align: middle;\n",
              "    }\n",
              "\n",
              "    .dataframe tbody tr th {\n",
              "        vertical-align: top;\n",
              "    }\n",
              "\n",
              "    .dataframe thead th {\n",
              "        text-align: right;\n",
              "    }\n",
              "</style>\n",
              "<table border=\"1\" class=\"dataframe\">\n",
              "  <thead>\n",
              "    <tr style=\"text-align: right;\">\n",
              "      <th></th>\n",
              "      <th>Id</th>\n",
              "      <th>SepalLengthCm</th>\n",
              "      <th>SepalWidthCm</th>\n",
              "      <th>PetalLengthCm</th>\n",
              "      <th>PetalWidthCm</th>\n",
              "      <th>Species</th>\n",
              "    </tr>\n",
              "  </thead>\n",
              "  <tbody>\n",
              "    <tr>\n",
              "      <th>0</th>\n",
              "      <td>1</td>\n",
              "      <td>5.1</td>\n",
              "      <td>3.5</td>\n",
              "      <td>1.4</td>\n",
              "      <td>0.2</td>\n",
              "      <td>Iris-setosa</td>\n",
              "    </tr>\n",
              "    <tr>\n",
              "      <th>1</th>\n",
              "      <td>2</td>\n",
              "      <td>4.9</td>\n",
              "      <td>3.0</td>\n",
              "      <td>1.4</td>\n",
              "      <td>0.2</td>\n",
              "      <td>Iris-setosa</td>\n",
              "    </tr>\n",
              "    <tr>\n",
              "      <th>2</th>\n",
              "      <td>3</td>\n",
              "      <td>4.7</td>\n",
              "      <td>3.2</td>\n",
              "      <td>1.3</td>\n",
              "      <td>0.2</td>\n",
              "      <td>Iris-setosa</td>\n",
              "    </tr>\n",
              "    <tr>\n",
              "      <th>3</th>\n",
              "      <td>4</td>\n",
              "      <td>4.6</td>\n",
              "      <td>3.1</td>\n",
              "      <td>1.5</td>\n",
              "      <td>0.2</td>\n",
              "      <td>Iris-setosa</td>\n",
              "    </tr>\n",
              "    <tr>\n",
              "      <th>4</th>\n",
              "      <td>5</td>\n",
              "      <td>5.0</td>\n",
              "      <td>3.6</td>\n",
              "      <td>1.4</td>\n",
              "      <td>0.2</td>\n",
              "      <td>Iris-setosa</td>\n",
              "    </tr>\n",
              "  </tbody>\n",
              "</table>\n",
              "</div>"
            ],
            "text/plain": [
              "   Id  SepalLengthCm  SepalWidthCm  PetalLengthCm  PetalWidthCm      Species\n",
              "0   1            5.1           3.5            1.4           0.2  Iris-setosa\n",
              "1   2            4.9           3.0            1.4           0.2  Iris-setosa\n",
              "2   3            4.7           3.2            1.3           0.2  Iris-setosa\n",
              "3   4            4.6           3.1            1.5           0.2  Iris-setosa\n",
              "4   5            5.0           3.6            1.4           0.2  Iris-setosa"
            ]
          },
          "metadata": {
            "tags": []
          },
          "execution_count": 2
        }
      ]
    },
    {
      "cell_type": "code",
      "metadata": {
        "id": "1SkptjgxOmWx",
        "colab_type": "code",
        "colab": {
          "base_uri": "https://localhost:8080/",
          "height": 197
        },
        "outputId": "2c6fdb99-e1d9-4268-afbb-dd246823a5c5"
      },
      "source": [
        "# Convert the categorical label to Numerical\n",
        "# Define the Label Encoder\n",
        "le = preprocessing.LabelEncoder()\n",
        "labels = list(iris_df[\"Species\"].unique())\n",
        "le.fit(labels)\n",
        "iris_df[\"Species\"] = le.transform(iris_df[\"Species\"])\n",
        "iris_df.head()"
      ],
      "execution_count": 3,
      "outputs": [
        {
          "output_type": "execute_result",
          "data": {
            "text/html": [
              "<div>\n",
              "<style scoped>\n",
              "    .dataframe tbody tr th:only-of-type {\n",
              "        vertical-align: middle;\n",
              "    }\n",
              "\n",
              "    .dataframe tbody tr th {\n",
              "        vertical-align: top;\n",
              "    }\n",
              "\n",
              "    .dataframe thead th {\n",
              "        text-align: right;\n",
              "    }\n",
              "</style>\n",
              "<table border=\"1\" class=\"dataframe\">\n",
              "  <thead>\n",
              "    <tr style=\"text-align: right;\">\n",
              "      <th></th>\n",
              "      <th>Id</th>\n",
              "      <th>SepalLengthCm</th>\n",
              "      <th>SepalWidthCm</th>\n",
              "      <th>PetalLengthCm</th>\n",
              "      <th>PetalWidthCm</th>\n",
              "      <th>Species</th>\n",
              "    </tr>\n",
              "  </thead>\n",
              "  <tbody>\n",
              "    <tr>\n",
              "      <th>0</th>\n",
              "      <td>1</td>\n",
              "      <td>5.1</td>\n",
              "      <td>3.5</td>\n",
              "      <td>1.4</td>\n",
              "      <td>0.2</td>\n",
              "      <td>0</td>\n",
              "    </tr>\n",
              "    <tr>\n",
              "      <th>1</th>\n",
              "      <td>2</td>\n",
              "      <td>4.9</td>\n",
              "      <td>3.0</td>\n",
              "      <td>1.4</td>\n",
              "      <td>0.2</td>\n",
              "      <td>0</td>\n",
              "    </tr>\n",
              "    <tr>\n",
              "      <th>2</th>\n",
              "      <td>3</td>\n",
              "      <td>4.7</td>\n",
              "      <td>3.2</td>\n",
              "      <td>1.3</td>\n",
              "      <td>0.2</td>\n",
              "      <td>0</td>\n",
              "    </tr>\n",
              "    <tr>\n",
              "      <th>3</th>\n",
              "      <td>4</td>\n",
              "      <td>4.6</td>\n",
              "      <td>3.1</td>\n",
              "      <td>1.5</td>\n",
              "      <td>0.2</td>\n",
              "      <td>0</td>\n",
              "    </tr>\n",
              "    <tr>\n",
              "      <th>4</th>\n",
              "      <td>5</td>\n",
              "      <td>5.0</td>\n",
              "      <td>3.6</td>\n",
              "      <td>1.4</td>\n",
              "      <td>0.2</td>\n",
              "      <td>0</td>\n",
              "    </tr>\n",
              "  </tbody>\n",
              "</table>\n",
              "</div>"
            ],
            "text/plain": [
              "   Id  SepalLengthCm  SepalWidthCm  PetalLengthCm  PetalWidthCm  Species\n",
              "0   1            5.1           3.5            1.4           0.2        0\n",
              "1   2            4.9           3.0            1.4           0.2        0\n",
              "2   3            4.7           3.2            1.3           0.2        0\n",
              "3   4            4.6           3.1            1.5           0.2        0\n",
              "4   5            5.0           3.6            1.4           0.2        0"
            ]
          },
          "metadata": {
            "tags": []
          },
          "execution_count": 3
        }
      ]
    },
    {
      "cell_type": "code",
      "metadata": {
        "id": "j7F_nLO1PJzK",
        "colab_type": "code",
        "colab": {}
      },
      "source": [
        "# Seperate the features and labels seperate\n",
        "iris_features = iris_df[[\"SepalLengthCm\",\"SepalWidthCm\",\"PetalLengthCm\",\"PetalWidthCm\"]]\n",
        "\n",
        "iris_labels = iris_df[[\"Species\"]]"
      ],
      "execution_count": 0,
      "outputs": []
    },
    {
      "cell_type": "code",
      "metadata": {
        "id": "U14ZjONCQrj3",
        "colab_type": "code",
        "colab": {}
      },
      "source": [
        "# Split into train and test\n",
        "train_feat , test_feat, train_label, test_label = train_test_split(iris_features, iris_labels, test_size=0.20, random_state=42)"
      ],
      "execution_count": 0,
      "outputs": []
    },
    {
      "cell_type": "code",
      "metadata": {
        "id": "8GbMIEfZRVr7",
        "colab_type": "code",
        "colab": {}
      },
      "source": [
        "# Convert the train into tensors and load as Dataloaders\n",
        "train_feat = torch.Tensor(train_feat.values)\n",
        "\n",
        "train_label = torch.LongTensor(train_label.values)\n",
        "\n",
        "train_data = data_utils.TensorDataset(train_feat, train_label)\n",
        "\n",
        "train_loader = data_utils.DataLoader(dataset=train_data,batch_size=32,shuffle=True)"
      ],
      "execution_count": 0,
      "outputs": []
    },
    {
      "cell_type": "code",
      "metadata": {
        "id": "ecpGhQ_RR3zv",
        "colab_type": "code",
        "colab": {}
      },
      "source": [
        "# Convert the test into tensors and load as Dataloaders\n",
        "test_feat = torch.Tensor(test_feat.values)\n",
        "\n",
        "test_label = torch.LongTensor(test_label.values)\n",
        "\n",
        "test_data = data_utils.TensorDataset(test_feat,test_label)\n",
        "\n",
        "test_loader = data_utils.DataLoader(dataset=test_data,batch_size=8,shuffle=True)"
      ],
      "execution_count": 0,
      "outputs": []
    },
    {
      "cell_type": "code",
      "metadata": {
        "id": "mD75CAwGSozv",
        "colab_type": "code",
        "colab": {}
      },
      "source": [
        "# Define the neural Network\n",
        "class IrisNet(torch.nn.Module):\n",
        "    def __init__(self,input_layer,hidden_1_size,hidden_2_size,output_layer):\n",
        "        super(IrisNet,self).__init__()\n",
        "        self.first_layer=torch.nn.Linear(input_layer,hidden_1_size)\n",
        "        self.first_layer_activation=torch.nn.ReLU()\n",
        "        self.second_layer=torch.nn.Linear(hidden_1_size,hidden_2_size)\n",
        "        self.second_layer_activation=torch.nn.ReLU()\n",
        "        self.third_layer=torch.nn.Linear(hidden_2_size,output_layer)\n",
        "        self.third_layer_activation=torch.nn.Sigmoid()\n",
        "\n",
        "    def forward(self,x):\n",
        "        output_1=self.first_layer(x)\n",
        "        output_1=self.first_layer_activation(output_1)\n",
        "        output_2=self.second_layer(output_1)\n",
        "        output_2=self.second_layer_activation(output_2)\n",
        "        output_3=self.third_layer(output_2)\n",
        "        return output_3"
      ],
      "execution_count": 0,
      "outputs": []
    },
    {
      "cell_type": "code",
      "metadata": {
        "id": "3zKS-aqTS8Vy",
        "colab_type": "code",
        "colab": {}
      },
      "source": [
        "# Declare the model and its hyperparameters\n",
        "#Specifying the no of neurons in every layer\n",
        "model = IrisNet(4,100,40,3)\n",
        "\n",
        "#Defining the loss function for the model\n",
        "criterion = torch.nn.CrossEntropyLoss()\n",
        "\n",
        "#defining the learning rate\n",
        "learning_rate = 0.001\n",
        "\n",
        "#defining the optimizer \n",
        "optimizer = torch.optim.SGD(model.parameters(),lr = learning_rate)\n"
      ],
      "execution_count": 0,
      "outputs": []
    },
    {
      "cell_type": "code",
      "metadata": {
        "id": "dLTNsxXlTdc8",
        "colab_type": "code",
        "colab": {}
      },
      "source": [
        "# Some utility variables\n",
        "no_of_epoch = 20\n",
        "\n",
        "training_loss=[]\n",
        "training_accuracy=[]\n",
        "testing_loss=[]\n",
        "testing_accuracy=[]\n",
        "epoch_list=[]"
      ],
      "execution_count": 0,
      "outputs": []
    },
    {
      "cell_type": "code",
      "metadata": {
        "id": "ty15r_X6T0I-",
        "colab_type": "code",
        "colab": {
          "base_uri": "https://localhost:8080/",
          "height": 1000
        },
        "outputId": "50d3de06-d551-4578-ee89-1c97c8d081aa"
      },
      "source": [
        "for epoch in range(no_of_epoch):\n",
        "    \n",
        "    total_trained = 0\n",
        "    correctly_trained = 0\n",
        "    \n",
        "    for i ,(train_features,train_labels) in enumerate(train_loader):\n",
        "        # Setting up the input \n",
        "        train_features=Variable(train_features)\n",
        "        train_labels=Variable(train_labels)\n",
        "        train_labels = train_labels.reshape(-1)\n",
        "        \n",
        "        # Setting model for training\n",
        "        model.train()\n",
        "        \n",
        "        # Initializing gradients to zero \n",
        "        optimizer.zero_grad()\n",
        "        \n",
        "        # Predicting the output\n",
        "        output = model(train_features)\n",
        "        \n",
        "        \n",
        "        # Calculating the loss\n",
        "        loss = criterion(output,train_labels)\n",
        "        \n",
        "        # Backpropogation\n",
        "        loss.backward()\n",
        "        \n",
        "        # Optimizing the weights\n",
        "        optimizer.step()\n",
        "        \n",
        "        # Getting the prediciton labels\n",
        "        total_trained += train_labels.size(0)\n",
        "        \n",
        "        _ , predicted_labels = torch.max(output.data,1)\n",
        "   \n",
        "        correctly_trained += (train_labels.data==predicted_labels).sum().item()\n",
        "    \n",
        "    #Printing the Accuracy and loss values for training data\n",
        "    print(\"Epoch:%d\"%(epoch))\n",
        "    print(\"Training Accuracy:%f loss:%f\"%((correctly_trained/total_trained)*100,loss))\n",
        "    \n",
        "    # Appending the current epoch details\n",
        "    training_loss.append(loss.data)\n",
        "    training_accuracy.append((correctly_trained/total_trained)*100)\n",
        "    epoch_list.append(epoch)\n",
        "    \n",
        "    # Now testing with the test data\n",
        "    output=model(Variable(test_feat))\n",
        "    test_label = Variable(test_label)\n",
        "    test_label = test_label.reshape(-1)\n",
        "    loss=criterion(output,Variable(test_label))\n",
        "    \n",
        "    _ , predicted_label = torch.max(output.data,1)\n",
        "    \n",
        "    correct_prediction=(predicted_label==test_label).sum().item()\n",
        "    \n",
        "    #Prinitng the Accuracy and loss values for testing data\n",
        "    print(\"Testing Accuracy:%f loss:%f\\n\"%((correct_prediction/test_label.size(0))*100,loss))\n",
        "    \n",
        "    testing_loss.append(loss.data)\n",
        "    testing_accuracy.append((correct_prediction/test_label.size(0))*100)"
      ],
      "execution_count": 12,
      "outputs": [
        {
          "output_type": "stream",
          "text": [
            "Epoch:0\n",
            "Training Accuracy:53.333333 loss:0.981631\n",
            "Testing Accuracy:56.666667 loss:0.967827\n",
            "\n",
            "Epoch:1\n",
            "Training Accuracy:64.166667 loss:0.970191\n",
            "Testing Accuracy:56.666667 loss:0.963780\n",
            "\n",
            "Epoch:2\n",
            "Training Accuracy:69.166667 loss:0.962514\n",
            "Testing Accuracy:60.000000 loss:0.959757\n",
            "\n",
            "Epoch:3\n",
            "Training Accuracy:74.166667 loss:0.964031\n",
            "Testing Accuracy:63.333333 loss:0.955696\n",
            "\n",
            "Epoch:4\n",
            "Training Accuracy:75.000000 loss:0.963386\n",
            "Testing Accuracy:76.666667 loss:0.951860\n",
            "\n",
            "Epoch:5\n",
            "Training Accuracy:76.666667 loss:0.941888\n",
            "Testing Accuracy:70.000000 loss:0.947737\n",
            "\n",
            "Epoch:6\n",
            "Training Accuracy:76.666667 loss:0.942402\n",
            "Testing Accuracy:73.333333 loss:0.943743\n",
            "\n",
            "Epoch:7\n",
            "Training Accuracy:80.000000 loss:0.949919\n",
            "Testing Accuracy:76.666667 loss:0.940195\n",
            "\n",
            "Epoch:8\n",
            "Training Accuracy:79.166667 loss:0.931396\n",
            "Testing Accuracy:76.666667 loss:0.936401\n",
            "\n",
            "Epoch:9\n",
            "Training Accuracy:80.000000 loss:0.930449\n",
            "Testing Accuracy:76.666667 loss:0.932594\n",
            "\n",
            "Epoch:10\n",
            "Training Accuracy:71.666667 loss:0.951581\n",
            "Testing Accuracy:76.666667 loss:0.929310\n",
            "\n",
            "Epoch:11\n",
            "Training Accuracy:75.833333 loss:0.912359\n",
            "Testing Accuracy:73.333333 loss:0.925464\n",
            "\n",
            "Epoch:12\n",
            "Training Accuracy:70.833333 loss:0.941721\n",
            "Testing Accuracy:73.333333 loss:0.922060\n",
            "\n",
            "Epoch:13\n",
            "Training Accuracy:71.666667 loss:0.914495\n",
            "Testing Accuracy:73.333333 loss:0.918429\n",
            "\n",
            "Epoch:14\n",
            "Training Accuracy:67.500000 loss:0.930500\n",
            "Testing Accuracy:73.333333 loss:0.915156\n",
            "\n",
            "Epoch:15\n",
            "Training Accuracy:68.333333 loss:0.899520\n",
            "Testing Accuracy:73.333333 loss:0.911578\n",
            "\n",
            "Epoch:16\n",
            "Training Accuracy:67.500000 loss:0.942033\n",
            "Testing Accuracy:73.333333 loss:0.908506\n",
            "\n",
            "Epoch:17\n",
            "Training Accuracy:67.500000 loss:0.926590\n",
            "Testing Accuracy:73.333333 loss:0.905382\n",
            "\n",
            "Epoch:18\n",
            "Training Accuracy:67.500000 loss:0.908831\n",
            "Testing Accuracy:73.333333 loss:0.902014\n",
            "\n",
            "Epoch:19\n",
            "Training Accuracy:66.666667 loss:0.903479\n",
            "Testing Accuracy:73.333333 loss:0.898854\n",
            "\n"
          ],
          "name": "stdout"
        }
      ]
    },
    {
      "cell_type": "code",
      "metadata": {
        "id": "xhZs4UKTUqlb",
        "colab_type": "code",
        "colab": {}
      },
      "source": [
        ""
      ],
      "execution_count": 0,
      "outputs": []
    }
  ]
}